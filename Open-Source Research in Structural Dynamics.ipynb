{
 "cells": [
  {
   "cell_type": "markdown",
   "metadata": {
    "slideshow": {
     "slide_type": "slide"
    }
   },
   "source": [
    "[Domen Gorjup](http://www.ladisk.si/~gorjup), [Klemen Zaletelj](http://www.ladisk.si/~zaletelj), \n",
    "[Aleš Zorman](http://www.ladisk.si/~zorman), [Domen Ocepek](http://www.ladisk.si/~ocepek), [Janko Slavič](http://www.ladisk.si/~slavic)\n",
    "<br>\n",
    "<center>\n",
    "<img width=150 src=\"./figures/UNI-FS-full-en.png\">\n",
    "<br>\n",
    "<font size=8 color=\"f00e0e\" style=\"line-height: 150%;\" face=\"garamond\"><b>A hands-on tutorial on open-source research in structural dynamics</b></font>\n",
    "<br>\n",
    "<img width=600 src=\"./figures/IMAC-XL-page-header-1280x133.png\">\n",
    "<font size=5>February 7-10 2022</font>\n",
    "</center>\n",
    "\n",
    "[www.ladisk.si](www.ladisk.si)\n",
    "\n",
    "Source: [github.com/ladisk/open_source_research_in_structural_dynamics](github.com/ladisk/open_source_research_in_structural_dynamics)."
   ]
  },
  {
   "cell_type": "markdown",
   "metadata": {
    "slideshow": {
     "slide_type": "subslide"
    }
   },
   "source": [
    "## Your hosts\n",
    "\n",
    "<table style=\"width:90%; background-color:#ffffff\">\n",
    "    <tr>\n",
    "        <td>\n",
    "            <b><font size=\"2\">Domen Gorjup</font></b>, <br><b><font size=\"1\">PhD student</font></b>\n",
    "            <br><br>\n",
    "            <font size=\"1\">domen.gorjup@fs.uni-lj.si</font>\n",
    "        </td>\n",
    "        <td>\n",
    "            <b><font size=\"2\">Klemen Zaletelj</font></b>, <br><b><font size=\"1\"> PhD student</font></b>\n",
    "            <br><br>\n",
    "            <font size=\"1\">klemen.zaletelj@fs.uni-lj.si</font>\n",
    "        </td>\n",
    "        <td>\n",
    "            <b><font size=\"2\">Aleš Zorman</font></b>, <br><b><font size=\"1\"> PhD student</font></b>\n",
    "            <br><br>\n",
    "            <font size=\"1\">ales.zorman@fs.uni-lj.si</font>\n",
    "        </td>\n",
    "        <td>\n",
    "            <b><font size=\"2\">Domen Ocepek</font></b>, <br><b><font size=\"1\"> PhD student</font></b>\n",
    "            <br><br>\n",
    "            <font size=\"1\">domen.ocepek@fs.uni-lj.si</font>\n",
    "        </td>\n",
    "        <td>\n",
    "            <b><font size=\"2\">Janko Slavič</font></b>, <br><b><font size=\"1\"> PhD, Professor</font></b>\n",
    "            <br><br>\n",
    "            <font size=\"1\">janko.slavic@fs.uni-lj.si</font>\n",
    "        </td>\n",
    "    </tr>    \n",
    "    <tr>\n",
    "        <td>\n",
    "            <img src=\"figures/domen_gorjup.jpg\" width=150>\n",
    "        </td>\n",
    "        <td>\n",
    "            <img src=\"figures/klemen_zaletelj.jpg\" width=150>\n",
    "        </td>\n",
    "        <td>\n",
    "            <img src=\"figures/ales_zorman.jpg\" width=150>\n",
    "        </td>\n",
    "        <td>\n",
    "            <img src=\"figures/domen_ocepek.jpg\" width=150>\n",
    "        </td>\n",
    "        <td>\n",
    "            <img src=\"figures/janko_slavic.jpg\" width=150>\n",
    "        </td>\n",
    "    </tr>    \n",
    "</table>"
   ]
  },
  {
   "cell_type": "markdown",
   "metadata": {
    "slideshow": {
     "slide_type": "skip"
    }
   },
   "source": [
    "---"
   ]
  },
  {
   "cell_type": "markdown",
   "metadata": {
    "slideshow": {
     "slide_type": "subslide"
    },
    "toc": true
   },
   "source": [
    "<h1>Table of Contents<span class=\"tocSkip\"></span></h1>\n",
    "<div class=\"toc\"><ul class=\"toc-item\"><li><span><a href=\"#Your-hosts\" data-toc-modified-id=\"Your-hosts-1\"><span class=\"toc-item-num\">1&nbsp;&nbsp;</span>Your hosts</a></span></li><li><span><a href=\"#Why-open-source?\" data-toc-modified-id=\"Why-open-source?-2\"><span class=\"toc-item-num\">2&nbsp;&nbsp;</span>Why open-source?</a></span><ul class=\"toc-item\"><li><span><a href=\"#Avoid-re-inventing-the-wheel,-again!\" data-toc-modified-id=\"Avoid-re-inventing-the-wheel,-again!-2.1\"><span class=\"toc-item-num\">2.1&nbsp;&nbsp;</span>Avoid re-inventing the wheel, again!</a></span></li><li><span><a href=\"#Fully-reproducible-science!\" data-toc-modified-id=\"Fully-reproducible-science!-2.2\"><span class=\"toc-item-num\">2.2&nbsp;&nbsp;</span>Fully reproducible science!</a></span></li><li><span><a href=\"#Why-Python?\" data-toc-modified-id=\"Why-Python?-2.3\"><span class=\"toc-item-num\">2.3&nbsp;&nbsp;</span>Why Python?</a></span></li><li><span><a href=\"#Seven-Stages-of-Open-Software\" data-toc-modified-id=\"Seven-Stages-of-Open-Software-2.4\"><span class=\"toc-item-num\">2.4&nbsp;&nbsp;</span>Seven Stages of Open Software</a></span></li></ul></li><li><span><a href=\"#Collaboration-on-open-source-projects\" data-toc-modified-id=\"Collaboration-on-open-source-projects-3\"><span class=\"toc-item-num\">3&nbsp;&nbsp;</span>Collaboration on open-source projects</a></span><ul class=\"toc-item\"><li><span><a href=\"#Requirements\" data-toc-modified-id=\"Requirements-3.1\"><span class=\"toc-item-num\">3.1&nbsp;&nbsp;</span>Requirements</a></span></li><li><span><a href=\"#Example-GitHub-workflow\" data-toc-modified-id=\"Example-GitHub-workflow-3.2\"><span class=\"toc-item-num\">3.2&nbsp;&nbsp;</span>Example GitHub workflow</a></span></li><li><span><a href=\"#Python-for-scientific-computation-basics\" data-toc-modified-id=\"Python-for-scientific-computation-basics-3.3\"><span class=\"toc-item-num\">3.3&nbsp;&nbsp;</span>Python for scientific computation basics</a></span></li></ul></li><li><span><a href=\"#Selected-Open-source-tools-for-structural-dynamics\" data-toc-modified-id=\"Selected-Open-source-tools-for-structural-dynamics-4\"><span class=\"toc-item-num\">4&nbsp;&nbsp;</span>Selected Open-source tools for structural dynamics</a></span><ul class=\"toc-item\"><li><span><a href=\"#PyFRF\" data-toc-modified-id=\"PyFRF-4.1\"><span class=\"toc-item-num\">4.1&nbsp;&nbsp;</span><a href=\"https://github.com/openmodal/pyFRF\" rel=\"nofollow\" target=\"_blank\">PyFRF</a></a></span></li><li><span><a href=\"#PyEMA\" data-toc-modified-id=\"PyEMA-4.2\"><span class=\"toc-item-num\">4.2&nbsp;&nbsp;</span><a href=\"https://github.com/ladisk/pyEMA\" rel=\"nofollow\" target=\"_blank\">PyEMA</a></a></span></li><li><span><a href=\"#PyUFF\" data-toc-modified-id=\"PyUFF-4.3\"><span class=\"toc-item-num\">4.3&nbsp;&nbsp;</span><a href=\"https://github.com/openmodal/pyuff\" rel=\"nofollow\" target=\"_blank\">PyUFF</a></a></span></li><li><span><a href=\"#pyExSi\" data-toc-modified-id=\"pyExSi-4.4\"><span class=\"toc-item-num\">4.4&nbsp;&nbsp;</span><a href=\"https://github.com/ladisk/pyExSi\" rel=\"nofollow\" target=\"_blank\">pyExSi</a></a></span></li><li><span><a href=\"#FLife\" data-toc-modified-id=\"FLife-4.5\"><span class=\"toc-item-num\">4.5&nbsp;&nbsp;</span><a href=\"https://github.com/ladisk/FLife\" rel=\"nofollow\" target=\"_blank\">FLife</a></a></span></li><li><span><a href=\"#pyFBS\" data-toc-modified-id=\"pyFBS-4.6\"><span class=\"toc-item-num\">4.6&nbsp;&nbsp;</span><a href=\"https://pyfbs.readthedocs.io\" rel=\"nofollow\" target=\"_blank\">pyFBS</a></a></span></li><li><span><a href=\"#pyIDI\" data-toc-modified-id=\"pyIDI-4.7\"><span class=\"toc-item-num\">4.7&nbsp;&nbsp;</span><a href=\"https://github.com/ladisk/pyidi\" rel=\"nofollow\" target=\"_blank\">pyIDI</a></a></span></li></ul></li><li><span><a href=\"#Image-based-experimental-modal-analysis-in-Python\" data-toc-modified-id=\"Image-based-experimental-modal-analysis-in-Python-5\"><span class=\"toc-item-num\">5&nbsp;&nbsp;</span>Image-based experimental modal analysis in Python</a></span></li><li><span><a href=\"#Real-life-example-of-image-based-vibration-measurement\" data-toc-modified-id=\"Real-life-example-of-image-based-vibration-measurement-6\"><span class=\"toc-item-num\">6&nbsp;&nbsp;</span>Real-life example of image-based vibration measurement</a></span><ul class=\"toc-item\"><li><span><a href=\"#Image-based-displacement-computation\" data-toc-modified-id=\"Image-based-displacement-computation-6.1\"><span class=\"toc-item-num\">6.1&nbsp;&nbsp;</span>Image-based displacement computation</a></span></li><li><span><a href=\"#Modal-Analysis---camera-data,-only\" data-toc-modified-id=\"Modal-Analysis---camera-data,-only-6.2\"><span class=\"toc-item-num\">6.2&nbsp;&nbsp;</span>Modal Analysis - camera data, only</a></span></li><li><span><a href=\"#Modal-Analysis---The-Hybrid-method\" data-toc-modified-id=\"Modal-Analysis---The-Hybrid-method-6.3\"><span class=\"toc-item-num\">6.3&nbsp;&nbsp;</span>Modal Analysis - The Hybrid method</a></span></li></ul></li><li><span><a href=\"#Conclusions\" data-toc-modified-id=\"Conclusions-7\"><span class=\"toc-item-num\">7&nbsp;&nbsp;</span>Conclusions</a></span></li></ul></div>"
   ]
  },
  {
   "cell_type": "markdown",
   "metadata": {
    "slideshow": {
     "slide_type": "skip"
    }
   },
   "source": [
    "Plotting and other settings:"
   ]
  },
  {
   "cell_type": "code",
   "execution_count": null,
   "metadata": {
    "slideshow": {
     "slide_type": "skip"
    }
   },
   "outputs": [],
   "source": [
    "# Ignore non-critical warnings\n",
    "import warnings\n",
    "warnings.filterwarnings('ignore')"
   ]
  },
  {
   "cell_type": "code",
   "execution_count": null,
   "metadata": {
    "slideshow": {
     "slide_type": "skip"
    }
   },
   "outputs": [],
   "source": [
    "%matplotlib inline\n",
    "import matplotlib\n",
    "import matplotlib.pyplot as plt\n",
    "\n",
    "font_size = 15\n",
    "fig_size = (16.0, 8.0)\n",
    "\n",
    "plt.style.use('ggplot')\n",
    "matplotlib.rcParams['figure.figsize'] = fig_size\n",
    "matplotlib.rcParams['font.size'] = font_size"
   ]
  },
  {
   "cell_type": "markdown",
   "metadata": {
    "slideshow": {
     "slide_type": "skip"
    }
   },
   "source": [
    "---"
   ]
  },
  {
   "cell_type": "markdown",
   "metadata": {
    "slideshow": {
     "slide_type": "slide"
    }
   },
   "source": [
    "## Why open-source?"
   ]
  },
  {
   "cell_type": "markdown",
   "metadata": {
    "slideshow": {
     "slide_type": "subslide"
    }
   },
   "source": [
    "### Avoid re-inventing the wheel, again!\n",
    "<img width=400 src=\"https://miro.medium.com/max/1400/1*uelROBkMlKDIomBaa1kK9w.jpeg\">\n",
    "Source: https://miro.medium.com/max/1400/1*uelROBkMlKDIomBaa1kK9w.jpeg"
   ]
  },
  {
   "cell_type": "markdown",
   "metadata": {
    "slideshow": {
     "slide_type": "subslide"
    }
   },
   "source": [
    "### Fully reproducible science!\n",
    "\n",
    "<img width=400 src=\"https://h-iq.com/wp-content/uploads/sites/4/2017/05/reinventing-the-wheel.jpg\">\n",
    "Source: https://h-iq.com/wp-content/uploads/sites/4/2017/05/reinventing-the-wheel.jpg"
   ]
  },
  {
   "cell_type": "markdown",
   "metadata": {
    "slideshow": {
     "slide_type": "subslide"
    }
   },
   "source": [
    "### Why Python?\n",
    "\n",
    "Consistently rated among the *top 5 most popular programming languages*. See for example the [IEEE Spectrum list](https://spectrum.ieee.org/static/interactive-the-top-programming-languages-2020) or the [TIOBE Programming Community index](https://www.tiobe.com/tiobe-index/), or the [StackOverflow developer survey](https://insights.stackoverflow.com/survey/2019?utm_source=Iterable&utm_medium=email&utm_campaign=dev-survey-2019#technology)*.\n",
    "\n",
    "6 reasons as seen by [Kayla Matthews](https://www.kdnuggets.com/2017/07/6-reasons-python-suddenly-super-popular.html):\n",
    "1. Python Has a Healthy, Active and Supportive Community\n",
    "2. Python Has Some Great Corporate Sponsors\n",
    "3. Python Has Big Data\n",
    "4. Python Has Amazing Libraries\n",
    "5. Python Is Reliable and Efficient\n",
    "6. Python Is Accessible"
   ]
  },
  {
   "cell_type": "markdown",
   "metadata": {
    "slideshow": {
     "slide_type": "subslide"
    }
   },
   "source": [
    "**Open-source, governed by [The Python Software Foundation](https://www.python.org/psf-landing/)**\n",
    "<img width=600 src=\"./figures/licence.jpg\">"
   ]
  },
  {
   "cell_type": "markdown",
   "metadata": {
    "slideshow": {
     "slide_type": "subslide"
    }
   },
   "source": [
    "**Huge, inclusive and growing ecosystem**\n",
    "Currently, close to 350k packages (https://pypi.org/). Steep growth in popularity in recent years.\n",
    "<img width=700 src=\"./figures/psf.png\">"
   ]
  },
  {
   "cell_type": "markdown",
   "metadata": {
    "slideshow": {
     "slide_type": "subslide"
    }
   },
   "source": [
    "**Why Structural Dynamics in Python?**"
   ]
  },
  {
   "cell_type": "markdown",
   "metadata": {
    "slideshow": {
     "slide_type": "subslide"
    }
   },
   "source": [
    "<img width=600 src=\"./figures/py_ecosys0.png\">"
   ]
  },
  {
   "cell_type": "markdown",
   "metadata": {
    "slideshow": {
     "slide_type": "subslide"
    }
   },
   "source": [
    "<img width=600 src=\"./figures/py_ecosys1.png\">"
   ]
  },
  {
   "cell_type": "markdown",
   "metadata": {
    "slideshow": {
     "slide_type": "subslide"
    }
   },
   "source": [
    "<img width=600 src=\"./figures/py_ecosys2.png\">"
   ]
  },
  {
   "cell_type": "markdown",
   "metadata": {
    "slideshow": {
     "slide_type": "subslide"
    }
   },
   "source": [
    "<img width=600 src=\"./figures/py_ecosys3.png\">"
   ]
  },
  {
   "cell_type": "markdown",
   "metadata": {
    "slideshow": {
     "slide_type": "subslide"
    }
   },
   "source": [
    "<img width=600 src=\"./figures/py_ecosys5.png\">"
   ]
  },
  {
   "cell_type": "markdown",
   "metadata": {
    "slideshow": {
     "slide_type": "subslide"
    }
   },
   "source": [
    "### Seven Stages of Open Software\n",
    "By: [Matthew Rocklin](https://coiled.io/blog/stages-of-openness.html)"
   ]
  },
  {
   "cell_type": "markdown",
   "metadata": {},
   "source": [
    "1. **Publicly visible source code**: We uploaded our code to GitHub\n",
    "2. **Licensed for reuse**: And let people use it for free\n",
    "2. **Accepting contributions**: And if they submit a patch, we’ll take the time to look at it, and work with them to merge it in\n",
    "4. **Open development**: And when we work we’ll make sure that all of our communication happens in the open as well, so that others can see what we’re doing and why\n",
    "5. **Open decision making**: And that communication will be open to the public, so that everyone can weigh in, vote, and determine what happens to the project\n",
    "6. **Multi-institution engagement**: So much so that no single institution or individual has control over the project\n",
    "7. **Retirement**: So now we can retire, and know that the software will live on forever"
   ]
  },
  {
   "cell_type": "markdown",
   "metadata": {
    "slideshow": {
     "slide_type": "skip"
    }
   },
   "source": [
    "---"
   ]
  },
  {
   "cell_type": "markdown",
   "metadata": {
    "slideshow": {
     "slide_type": "slide"
    }
   },
   "source": [
    "## Collaboration on open-source projects"
   ]
  },
  {
   "cell_type": "markdown",
   "metadata": {
    "slideshow": {
     "slide_type": "subslide"
    }
   },
   "source": [
    "### Requirements"
   ]
  },
  {
   "cell_type": "markdown",
   "metadata": {},
   "source": [
    "1. To follow this tutorial interactively, the **Python programming language** should be installed on your system.\n",
    "    * You can get the latest version from the [Download Python](https://www.python.org/downloads/) section of the official web page, or \n",
    "    * you can install Python along with some of the most useful scientific libraries through a distribution such as [Anaconda](https://www.anaconda.com/products/individual).\n",
    "    \n",
    "<img src=\"https://www.python.org/static/img/python-logo.png\">\n",
    "\n",
    "\n",
    "    \n",
    "    \n",
    "\n",
    "\n",
    "2. Another tool you might find useful when accessing the course material is the [Git](https://git-scm.com/) version control system.\n",
    "To start using Git, you should [download](https://git-scm.com/downloads) and install the Git client and [set it up with you user information](https://help.github.com/en/articles/setting-your-username-in-git).\n",
    "\n",
    "<img src=\"https://git-scm.com/images/logo@2x.png\">\n",
    "\n",
    "\n",
    "    \n"
   ]
  },
  {
   "cell_type": "markdown",
   "metadata": {
    "slideshow": {
     "slide_type": "slide"
    }
   },
   "source": [
    "### Example GitHub workflow"
   ]
  },
  {
   "cell_type": "markdown",
   "metadata": {
    "slideshow": {
     "slide_type": "subslide"
    }
   },
   "source": [
    "This is an interactive tutorial. Once you've installed the Python programming language and the Git client, follow the [video presentation]() to learn more about contributing to open-source projects using the Git version control system.\n",
    "\n",
    "\n",
    "The basic steps are also outlined in this repository's [CONTRIBUTING.rst](https://github.com/ladisk/open_source_research_in_structural_dynamics/blob/master/CONTRIBUTING.rst) document.\n",
    "\n",
    "\n",
    "If you want to learn more, most established open-source projects include detailed guides on how to contribute to the code base. [NumPy's dev page](https://numpy.org/doc/stable/dev/) is a great resource on the topic."
   ]
  },
  {
   "cell_type": "markdown",
   "metadata": {
    "slideshow": {
     "slide_type": "-"
    }
   },
   "source": [
    "[`https://github.com/ladisk/open_source_research_in_structural_dynamics`](https://github.com/ladisk/open_source_research_in_structural_dynamics)\n",
    "\n"
   ]
  },
  {
   "cell_type": "markdown",
   "metadata": {},
   "source": [
    "---"
   ]
  },
  {
   "cell_type": "markdown",
   "metadata": {},
   "source": [
    "### Python for scientific computation basics"
   ]
  },
  {
   "cell_type": "markdown",
   "metadata": {
    "slideshow": {
     "slide_type": "subslide"
    }
   },
   "source": [
    "Package imports:\n",
    "\n",
    "*(Some of these might be imported again in the examples below. While this is not a recommended practice, it is done to provide you with complete code examples).*"
   ]
  },
  {
   "cell_type": "markdown",
   "metadata": {
    "slideshow": {
     "slide_type": "subslide"
    }
   },
   "source": [
    "To run this tutorial, the following Python packages must be installed:\n",
    "\n",
    "* ``pip install scipy``\n",
    "* ``pip install numpy``\n",
    "* ``pip install matplotlib``\n",
    "* ``pip install lvm_read``\n",
    "* ``pip install pyFRF``\n",
    "* ``pip install pyidi``\n",
    "* ``pip install pyEMA``\n",
    "* ``pip install FLife``\n",
    "* ``pip install pyExSi``\n",
    "* ``pip install pyuff``\n",
    "* ``pip install pyFBS``\n",
    "\n",
    "You can get them all at once by running:\n",
    "\n",
    "``pip install -r requirements.txt``"
   ]
  },
  {
   "cell_type": "code",
   "execution_count": null,
   "metadata": {},
   "outputs": [],
   "source": [
    "# General Python packages\n",
    "import os\n",
    "import numpy as np\n",
    "import scipy\n",
    "import pandas as pd\n",
    "import matplotlib\n",
    "import matplotlib.pyplot as plt\n",
    "import matplotlib.patches as patches\n",
    "from ipywidgets import interact, fixed"
   ]
  },
  {
   "cell_type": "code",
   "execution_count": null,
   "metadata": {},
   "outputs": [],
   "source": [
    "# Ignore non-critical warnings\n",
    "import warnings\n",
    "warnings.filterwarnings('ignore')"
   ]
  },
  {
   "cell_type": "markdown",
   "metadata": {},
   "source": [
    "For a brief introduction to the basics of Python for scientific computing, see our [IMAC 39i tutorial video](https://www.youtube.com/watch?v=AYnucOJSuJs)."
   ]
  },
  {
   "cell_type": "markdown",
   "metadata": {
    "slideshow": {
     "slide_type": "skip"
    }
   },
   "source": [
    "---"
   ]
  },
  {
   "cell_type": "markdown",
   "metadata": {
    "slideshow": {
     "slide_type": "slide"
    }
   },
   "source": [
    "## Selected Open-source tools for structural dynamics"
   ]
  },
  {
   "cell_type": "code",
   "execution_count": null,
   "metadata": {},
   "outputs": [],
   "source": [
    "# Import structural dynamics packages\n",
    "import lvm_read\n",
    "import pyFRF\n",
    "import pyidi\n",
    "import pyEMA\n",
    "import FLife\n",
    "import pyExSi as es\n",
    "import pyuff\n",
    "import pyFBS\n",
    "\n",
    "# Our visualization functions\n",
    "from modules.tools import show_modal_data, plot_mode_shape, show_reconstructed, show_lighting"
   ]
  },
  {
   "cell_type": "markdown",
   "metadata": {
    "slideshow": {
     "slide_type": "subslide"
    }
   },
   "source": [
    "### [PyFRF](https://github.com/openmodal/pyFRF)"
   ]
  },
  {
   "cell_type": "markdown",
   "metadata": {},
   "source": [
    "``pyFRF`` is an open-source package, designed for Frequency Response Function computation in structural dynamics.\n",
    "\n",
    "The inputs are time signals of excitation and response, the outputs are FRF estimators (H1, H2, Hv, Vector or ODS) and coherence."
   ]
  },
  {
   "cell_type": "code",
   "execution_count": null,
   "metadata": {
    "slideshow": {
     "slide_type": "subslide"
    }
   },
   "outputs": [],
   "source": [
    "import pyFRF"
   ]
  },
  {
   "cell_type": "markdown",
   "metadata": {},
   "source": [
    "Data are read from an `.lvm` file using `lvm_read` package:"
   ]
  },
  {
   "cell_type": "code",
   "execution_count": null,
   "metadata": {},
   "outputs": [],
   "source": [
    "measurement_dict = lvm_read.read('data/acceleration.lvm')"
   ]
  },
  {
   "cell_type": "code",
   "execution_count": null,
   "metadata": {},
   "outputs": [],
   "source": [
    "acceleration = measurement_dict[0]['data'][:, 0]\n",
    "force = measurement_dict[0]['data'][:, 1]\n",
    "\n",
    "sampling_frequency = 1/measurement_dict[0]['Delta_X'][0]"
   ]
  },
  {
   "cell_type": "markdown",
   "metadata": {
    "slideshow": {
     "slide_type": "subslide"
    }
   },
   "source": [
    "A direct way of computing the FRF estimates:"
   ]
  },
  {
   "cell_type": "code",
   "execution_count": null,
   "metadata": {},
   "outputs": [],
   "source": [
    "frf = pyFRF.FRF(sampling_freq=sampling_frequency, exc=force, resp=acceleration, \n",
    "          resp_type='a', exc_window='None', resp_window='None')\n",
    "\n",
    "freq = frf.get_f_axis()\n",
    "H1 = frf.get_FRF(type='H1')"
   ]
  },
  {
   "cell_type": "code",
   "execution_count": null,
   "metadata": {
    "slideshow": {
     "slide_type": "subslide"
    }
   },
   "outputs": [],
   "source": [
    "plt.semilogy(freq, np.abs(H1), '.')\n",
    "plt.title('FRF H1')\n",
    "plt.xlabel('Frequency [Hz]')\n",
    "plt.xlim(0, 10000);"
   ]
  },
  {
   "cell_type": "markdown",
   "metadata": {
    "slideshow": {
     "slide_type": "subslide"
    }
   },
   "source": [
    "### [PyEMA](https://github.com/ladisk/pyEMA)"
   ]
  },
  {
   "cell_type": "code",
   "execution_count": null,
   "metadata": {},
   "outputs": [],
   "source": [
    "freq, H1_main = np.load(\"./data/FRF_matrix.npy\", allow_pickle=True)"
   ]
  },
  {
   "cell_type": "markdown",
   "metadata": {
    "slideshow": {
     "slide_type": "subslide"
    }
   },
   "source": [
    "From the experimental FRF array (`H1_main` of dimensions: `(#inputs, #outputs, frequency)`) only the response accelerometer position at index 1 will be used for analysis:"
   ]
  },
  {
   "cell_type": "code",
   "execution_count": null,
   "metadata": {},
   "outputs": [],
   "source": [
    "selected_response = 1\n",
    "FRF = H1_main[:, selected_response, :]"
   ]
  },
  {
   "cell_type": "code",
   "execution_count": null,
   "metadata": {
    "slideshow": {
     "slide_type": "subslide"
    }
   },
   "outputs": [],
   "source": [
    "plt.semilogy(freq, np.abs(FRF.T));\n",
    "plt.ylabel('FRF H1')\n",
    "plt.xlabel('Frequency [Hz]')\n",
    "plt.xlim(0, 1000);"
   ]
  },
  {
   "cell_type": "markdown",
   "metadata": {
    "slideshow": {
     "slide_type": "subslide"
    }
   },
   "source": [
    "Initiate the pyEMA object:"
   ]
  },
  {
   "cell_type": "code",
   "execution_count": null,
   "metadata": {},
   "outputs": [],
   "source": [
    "acc = pyEMA.Model(frf=FRF, \n",
    "                 freq=freq,\n",
    "                 lower=10, \n",
    "                 upper=5000,\n",
    "                 pol_order_high=60)"
   ]
  },
  {
   "cell_type": "markdown",
   "metadata": {
    "slideshow": {
     "slide_type": "subslide"
    }
   },
   "source": [
    "Get the complex system poles:"
   ]
  },
  {
   "cell_type": "code",
   "execution_count": null,
   "metadata": {},
   "outputs": [],
   "source": [
    "acc.get_poles()"
   ]
  },
  {
   "cell_type": "markdown",
   "metadata": {
    "slideshow": {
     "slide_type": "subslide"
    }
   },
   "source": [
    "Select stable poles from stabilisation chart:"
   ]
  },
  {
   "cell_type": "code",
   "execution_count": null,
   "metadata": {},
   "outputs": [],
   "source": [
    "acc.select_poles()"
   ]
  },
  {
   "cell_type": "markdown",
   "metadata": {
    "slideshow": {
     "slide_type": "subslide"
    }
   },
   "source": [
    "\n",
    "\n",
    "The selected natural frequencies and corresponding damping factors:\n"
   ]
  },
  {
   "cell_type": "code",
   "execution_count": null,
   "metadata": {},
   "outputs": [],
   "source": [
    "acc.print_modal_data()"
   ]
  },
  {
   "cell_type": "markdown",
   "metadata": {
    "slideshow": {
     "slide_type": "subslide"
    }
   },
   "source": [
    "Show normalized modes (first three):"
   ]
  },
  {
   "cell_type": "code",
   "execution_count": null,
   "metadata": {},
   "outputs": [],
   "source": [
    "plt.plot(acc.normal_mode()[:, :3]);\n",
    "plt.xlabel('DOF')\n",
    "plt.ylabel('mode shape')"
   ]
  },
  {
   "cell_type": "markdown",
   "metadata": {
    "slideshow": {
     "slide_type": "subslide"
    }
   },
   "source": [
    "### [PyUFF](https://github.com/openmodal/pyuff)"
   ]
  },
  {
   "cell_type": "markdown",
   "metadata": {},
   "source": [
    "UFF file format was originally developed by the Structural Dynamics Research Corporation (SDRC) to standardize data transfer mainly between various modal analysis, measurement or CAD geometry software products. UFF file is composed into several datasets, most important being the dataset 58 for measurement data and dataset 55 for modal data. More info on specific datasets can be obtained at http://www.sdrl.uc.edu/sdrl/referenceinfo/universalfileformats\n",
    "\n",
    "Supported data tipes for reading and writting are: 151, 15, 55, 58, 58b, 82, 164, 2411, 2412, 2420.\n",
    "\n",
    "The documentation for `pyuff` is available [here](https://pyuff.readthedocs.io/en/latest/index.html)."
   ]
  },
  {
   "cell_type": "markdown",
   "metadata": {
    "slideshow": {
     "slide_type": "subslide"
    }
   },
   "source": [
    "With the release of version 2.0, the `prepare_()` methods were introduced, making the workflow easier. \n",
    "\n",
    "All required arguments are listed and documented in the `docstring` (along with the record and field numeber, referencing the [file structure](https://www.ceas3.uc.edu/sdrluff/))."
   ]
  },
  {
   "cell_type": "markdown",
   "metadata": {
    "slideshow": {
     "slide_type": "subslide"
    }
   },
   "source": [
    "Writing an `UFF` file:"
   ]
  },
  {
   "cell_type": "code",
   "execution_count": null,
   "metadata": {},
   "outputs": [],
   "source": [
    "filename = 'data/temp58.uff'\n",
    "if os.path.exists(filename): # Delete a file if it already exists\n",
    "    os.remove(filename)     #therefore we delete prior file here\n",
    "    \n",
    "uff_write = pyuff.UFF(filename)\n",
    "\n",
    "for i in range(FRF.shape[0]):\n",
    "    data_dict = pyuff.prepare_58(binary=True,\n",
    "                                 func_type=4,\n",
    "                                 rsp_node=i,\n",
    "                                 rsp_dir=0,\n",
    "                                 ref_node=0,\n",
    "                                 ref_dir=0,\n",
    "                                 orddenom_spec_data_type=13,\n",
    "                                 data=FRF[i],\n",
    "                                 x=freq)\n",
    "    uff_write.write_sets(data_dict, mode='add')"
   ]
  },
  {
   "cell_type": "markdown",
   "metadata": {
    "slideshow": {
     "slide_type": "subslide"
    }
   },
   "source": [
    "---"
   ]
  },
  {
   "cell_type": "markdown",
   "metadata": {},
   "source": [
    "### [pyExSi](https://github.com/ladisk/pyExSi)"
   ]
  },
  {
   "cell_type": "markdown",
   "metadata": {
    "slideshow": {
     "slide_type": "fragment"
    }
   },
   "source": [
    "Excitation signal generation"
   ]
  },
  {
   "cell_type": "markdown",
   "metadata": {
    "slideshow": {
     "slide_type": "subslide"
    }
   },
   "source": [
    "Supported excitation signals are:\n",
    "\n",
    "- pulse (e.g. half-sine)"
   ]
  },
  {
   "cell_type": "markdown",
   "metadata": {
    "slideshow": {
     "slide_type": "fragment"
    }
   },
   "source": [
    "- random:\n",
    "\n",
    "    - uniform random distribution\n",
    "    - normal random distribution\n",
    "    - pseudorandom distribution"
   ]
  },
  {
   "cell_type": "markdown",
   "metadata": {
    "slideshow": {
     "slide_type": "fragment"
    }
   },
   "source": [
    "- random, defined by power spectral density (PSD):\n",
    "\n",
    "    - stationary Gaussian\n",
    "    - stationary non-Gaussian\n",
    "    - non-stationary non-Gaussian random process"
   ]
  },
  {
   "cell_type": "markdown",
   "metadata": {
    "slideshow": {
     "slide_type": "fragment"
    }
   },
   "source": [
    "- burst random\n",
    "- sine sweep"
   ]
  },
  {
   "cell_type": "markdown",
   "metadata": {},
   "source": [
    "Here we will show only the **non-stationary non-Gaussian excitation**."
   ]
  },
  {
   "cell_type": "code",
   "execution_count": null,
   "metadata": {},
   "outputs": [],
   "source": [
    "N = 2 ** 16  # number of data points of time signal\n",
    "fs = 1024  # sampling frequency [Hz]\n",
    "t = np.arange(0, N) / fs  # time vector\n",
    "\n",
    "# define frequency vector and one-sided flat-shaped PSD\n",
    "M = N // 2 + 1  # number of data points of frequency vector\n",
    "f = np.arange(0, M, 1) * fs / N  # frequency vector\n",
    "f_min = 50  # PSD upper frequency limit  [Hz]\n",
    "f_max = 100  # PSD lower frequency limit [Hz]\n",
    "PSD = es.get_psd(f, f_min, f_max)  # one-sided flat-shaped PSD"
   ]
  },
  {
   "cell_type": "code",
   "execution_count": null,
   "metadata": {},
   "outputs": [],
   "source": [
    "plt.plot(f, PSD)\n",
    "plt.xlim(0, 200)\n",
    "plt.xlabel('Frequency')\n",
    "plt.ylabel('PSD')\n",
    "plt.show()"
   ]
  },
  {
   "cell_type": "markdown",
   "metadata": {},
   "source": [
    "Get gaussian stationary signal and check if the kurtosis is close to 3:"
   ]
  },
  {
   "cell_type": "code",
   "execution_count": null,
   "metadata": {},
   "outputs": [],
   "source": [
    "gausian_signal = es.random_gaussian(N, PSD, fs)\n",
    "es.get_kurtosis(gausian_signal)"
   ]
  },
  {
   "cell_type": "markdown",
   "metadata": {},
   "source": [
    "Get non-gaussian stationary signal and check if the kurtosis is close to `k_u=10`:"
   ]
  },
  {
   "cell_type": "code",
   "execution_count": null,
   "metadata": {},
   "outputs": [],
   "source": [
    "k_u_target = 10\n",
    "nongausian_signal = es.stationary_nongaussian_signal(N, PSD, fs, k_u=k_u_target)\n",
    "es.get_kurtosis(nongausian_signal)"
   ]
  },
  {
   "cell_type": "markdown",
   "metadata": {},
   "source": [
    "Two types of non-stationarity are supported:\n",
    "* modulation defined with a PSD defined \n",
    "* modulation based on cubic spline interpolation (nodes are based on beta distribution).\n",
    "\n",
    "Here the latter will be shown."
   ]
  },
  {
   "cell_type": "markdown",
   "metadata": {},
   "source": [
    "Get the non-stationary non-Gaussian signal and check the kurtosis:"
   ]
  },
  {
   "cell_type": "markdown",
   "metadata": {
    "slideshow": {
     "slide_type": "fragment"
    }
   },
   "source": [
    "* beta distribution PDF: $p(x)=\\frac{x^{\\alpha-1} (1-x)^{\\beta-1}\\, \\Gamma(\\alpha +\\beta)}{\\Gamma(\\alpha)\\,\\Gamma(\\beta)}$"
   ]
  },
  {
   "cell_type": "code",
   "execution_count": null,
   "metadata": {},
   "outputs": [],
   "source": [
    "# Points are separated by delta_n = 2**8 samples (at fs=2**10)\n",
    "delta_n = 2 ** 8\n",
    "# define array of parameters alpha and beta\n",
    "alpha_list = np.arange(1, 10, 1)\n",
    "beta_list = np.arange(1, 10, 1)\n",
    "# get signal\n",
    "nongausian_nonstationary_signal_beta = es.nonstationary_signal(\n",
    "    N,\n",
    "    PSD,\n",
    "    fs,\n",
    "    k_u=k_u_target,\n",
    "    modulating_signal=('CSI', delta_n),\n",
    "    param1_list=alpha_list,\n",
    "    param2_list=beta_list\n",
    ")\n",
    "# calculate kurtosis\n",
    "es.get_kurtosis(nongausian_nonstationary_signal_beta)"
   ]
  },
  {
   "cell_type": "markdown",
   "metadata": {},
   "source": [
    "Look at the results:"
   ]
  },
  {
   "cell_type": "code",
   "execution_count": null,
   "metadata": {},
   "outputs": [],
   "source": [
    "t_indx = np.logical_and(t >= 0, t < 10)\n",
    "plt.figure(figsize=(15, 5))\n",
    "plt.plot(t[t_indx], gausian_signal[t_indx], label='Gaussian')\n",
    "plt.plot(\n",
    "    t[t_indx],\n",
    "    10+nongausian_nonstationary_signal_beta[t_indx],\n",
    "    label='non-Gaussian non-stationary (beta) + 10'\n",
    ")\n",
    "plt.legend();"
   ]
  },
  {
   "cell_type": "markdown",
   "metadata": {},
   "source": [
    "Check the Power spectral density:"
   ]
  },
  {
   "cell_type": "code",
   "execution_count": null,
   "metadata": {},
   "outputs": [],
   "source": [
    "plt.psd(gausian_signal, Fs=fs, label='Gaussian')\n",
    "plt.psd(nongausian_nonstationary_signal_beta, Fs=fs, label='non-Gaussian non-stationary (beta)')\n",
    "plt.legend();"
   ]
  },
  {
   "cell_type": "markdown",
   "metadata": {},
   "source": [
    "--- "
   ]
  },
  {
   "cell_type": "markdown",
   "metadata": {},
   "source": [
    "### [FLife](https://github.com/ladisk/FLife)"
   ]
  },
  {
   "cell_type": "markdown",
   "metadata": {
    "slideshow": {
     "slide_type": "fragment"
    }
   },
   "source": [
    "Vibration fatigue in the spectral domain"
   ]
  },
  {
   "cell_type": "markdown",
   "metadata": {
    "slideshow": {
     "slide_type": "fragment"
    }
   },
   "source": [
    "Supported frequency-domain methods are:\n",
    "* Narrowband,\n",
    "* Wirsching Light,\n",
    "* Ortiz Chen,\n",
    "* Alpha 0.75,\n",
    "* Tovo Benasciutti,\n",
    "* Dirlik,\n",
    "* Zhao Baker,\n",
    "* Park,\n",
    "\n",
    "\n",
    "* Jiao Moan,\n",
    "* Sakai Okamura,\n",
    "* Fu Cebon,\n",
    "* modified Fu Cebon,\n",
    "* Low's bimodal,\n",
    "* Gao Moan,\n",
    "* Single moment,\n",
    "* Bands method"
   ]
  },
  {
   "cell_type": "markdown",
   "metadata": {},
   "source": [
    "Create random data as example of the response fatigue load:"
   ]
  },
  {
   "cell_type": "code",
   "execution_count": null,
   "metadata": {},
   "outputs": [],
   "source": [
    "dt = 1e-4\n",
    "x = np.random.normal(scale=100, size=10000)"
   ]
  },
  {
   "cell_type": "markdown",
   "metadata": {},
   "source": [
    "Prepare spectral data which will later be used by different fatigue damage estimation methods  in the frequency-domain:"
   ]
  },
  {
   "cell_type": "code",
   "execution_count": null,
   "metadata": {},
   "outputs": [],
   "source": [
    "sd = FLife.SpectralData(input=x, dt=dt)"
   ]
  },
  {
   "cell_type": "code",
   "execution_count": null,
   "metadata": {
    "slideshow": {
     "slide_type": "fragment"
    }
   },
   "outputs": [],
   "source": [
    "t = np.arange(0, sd.t, dt)  \n",
    "\n",
    "plt.figure(figsize=(15, 5))\n",
    "plt.plot(t, sd.data)\n",
    "plt.xlabel('time [s]')\n",
    "plt.ylabel('stress [MPa]');"
   ]
  },
  {
   "cell_type": "markdown",
   "metadata": {},
   "source": [
    "Rainflow fatigue-damage estimator object (`sd` is an object with the time-domain data required for the Rainflow method):"
   ]
  },
  {
   "cell_type": "code",
   "execution_count": null,
   "metadata": {},
   "outputs": [],
   "source": [
    "rf = FLife.Rainflow(sd)"
   ]
  },
  {
   "cell_type": "markdown",
   "metadata": {},
   "source": [
    "We need to define fatigue parameters and can estimate the fatigue life:"
   ]
  },
  {
   "cell_type": "code",
   "execution_count": null,
   "metadata": {},
   "outputs": [],
   "source": [
    "C = 1.8e+22\n",
    "k = 7.3"
   ]
  },
  {
   "cell_type": "code",
   "execution_count": null,
   "metadata": {},
   "outputs": [],
   "source": [
    "rf.get_life(C = C, k=k)"
   ]
  },
  {
   "cell_type": "markdown",
   "metadata": {},
   "source": [
    "Frequency-domain methods are as easy as the time-domain:"
   ]
  },
  {
   "cell_type": "code",
   "execution_count": null,
   "metadata": {},
   "outputs": [],
   "source": [
    "dirlik = FLife.Dirlik(sd)\n",
    "dirlik.get_life(C = C, k=k)"
   ]
  },
  {
   "cell_type": "code",
   "execution_count": null,
   "metadata": {},
   "outputs": [],
   "source": [
    "tb = FLife.TovoBenasciutti(sd)\n",
    "tb.get_life(C = C, k=k, method=\"method 2\")"
   ]
  },
  {
   "cell_type": "markdown",
   "metadata": {
    "slideshow": {
     "slide_type": "subslide"
    }
   },
   "source": [
    "Some spectral methods support PDF stress cycle amplitude:"
   ]
  },
  {
   "cell_type": "code",
   "execution_count": null,
   "metadata": {
    "slideshow": {
     "slide_type": "fragment"
    }
   },
   "outputs": [],
   "source": [
    "s = np.arange(0,np.max(sd.data),.001)\n",
    "\n",
    "plt.figure(figsize=(15, 5))\n",
    "plt.plot(s,dirlik.get_PDF(s), label='Dirlik')\n",
    "plt.plot(s,tb.get_PDF(s, method='method 2'), label='Tovo-Benasciutti')\n",
    "plt.legend()\n",
    "plt.xlabel('Stress')\n",
    "plt.ylabel('PDF')\n",
    "plt.show()"
   ]
  },
  {
   "cell_type": "markdown",
   "metadata": {},
   "source": [
    "---"
   ]
  },
  {
   "cell_type": "markdown",
   "metadata": {},
   "source": [
    "### [pyFBS](https://pyfbs.readthedocs.io)"
   ]
  },
  {
   "cell_type": "code",
   "execution_count": null,
   "metadata": {},
   "outputs": [],
   "source": [
    "import pyFBS"
   ]
  },
  {
   "cell_type": "markdown",
   "metadata": {},
   "source": [
    "<img width=15000 src=\"./figures/pyfbs_title.png\">\n",
    "\n",
    "`pyFBS` is a Python package for **Frequency Based Substructuring** and **Transfer Path Analysis**, enabling the user to use state-of-the-art dynamic substructuring methodologies in an intuitive manner."
   ]
  },
  {
   "cell_type": "markdown",
   "metadata": {},
   "source": [
    "**Features**\n",
    "\n",
    "* 3D display\n",
    "* FRF synthetization\n",
    "* Virtual Point Transformation\n",
    "* System Equivalent Model Mixing\n",
    "*  Singular Vector Transformation\n"
   ]
  },
  {
   "cell_type": "markdown",
   "metadata": {
    "slideshow": {
     "slide_type": "slide"
    }
   },
   "source": [
    "First, open a blank 3D display. For the 3D visualization a python package [PyVista](https://docs.pyvista.org/index.html) is used."
   ]
  },
  {
   "cell_type": "code",
   "execution_count": null,
   "metadata": {
    "slideshow": {
     "slide_type": "-"
    }
   },
   "outputs": [],
   "source": [
    "view3D = pyFBS.view3D()"
   ]
  },
  {
   "cell_type": "markdown",
   "metadata": {
    "slideshow": {
     "slide_type": "fragment"
    }
   },
   "source": [
    "For displaying a geometric objects a STL file can be loaded:"
   ]
  },
  {
   "cell_type": "code",
   "execution_count": null,
   "metadata": {
    "slideshow": {
     "slide_type": "-"
    }
   },
   "outputs": [],
   "source": [
    "path_to_stl = r\"./data/A.stl\"\n",
    "mesh = view3D.add_stl(path_to_stl, name=\"A\");"
   ]
  },
  {
   "cell_type": "markdown",
   "metadata": {
    "slideshow": {
     "slide_type": "slide"
    }
   },
   "source": [
    "The geometric object will apear in the rendering window. I/O objects (accelerometers, impacts and virtual points) can be added to the 3D display:"
   ]
  },
  {
   "cell_type": "code",
   "execution_count": null,
   "metadata": {
    "slideshow": {
     "slide_type": "-"
    }
   },
   "outputs": [],
   "source": [
    "view3D.add_acc_dynamic(mesh)"
   ]
  },
  {
   "cell_type": "code",
   "execution_count": null,
   "metadata": {
    "slideshow": {
     "slide_type": "-"
    }
   },
   "outputs": [],
   "source": [
    "df_acc = view3D.get_acc_data()\n",
    "df_acc"
   ]
  },
  {
   "cell_type": "markdown",
   "metadata": {
    "slideshow": {
     "slide_type": "slide"
    }
   },
   "source": [
    "Channels can be defined based on the positions and orientations of accelerometers."
   ]
  },
  {
   "cell_type": "code",
   "execution_count": null,
   "metadata": {
    "slideshow": {
     "slide_type": "-"
    }
   },
   "outputs": [],
   "source": [
    "df_chn = pyFBS.utility.generate_channels_from_sensors(df_acc)\n",
    "df_chn"
   ]
  },
  {
   "cell_type": "markdown",
   "metadata": {
    "slideshow": {
     "slide_type": "slide"
    }
   },
   "source": [
    "I/O objects acan be added to the 3D display directly from the ``pd.DataFrame``."
   ]
  },
  {
   "cell_type": "code",
   "execution_count": null,
   "metadata": {
    "slideshow": {
     "slide_type": "-"
    }
   },
   "outputs": [],
   "source": [
    "df_imp = pd.read_excel('./data/AM_Measurements.xlsx', sheet_name='Impacts_A')"
   ]
  },
  {
   "cell_type": "code",
   "execution_count": null,
   "metadata": {
    "slideshow": {
     "slide_type": "-"
    }
   },
   "outputs": [],
   "source": [
    "view3D.show_imp(df_imp)\n",
    "view3D.label_imp(df_imp)"
   ]
  },
  {
   "cell_type": "markdown",
   "metadata": {
    "slideshow": {
     "slide_type": "slide"
    }
   },
   "source": [
    "To generate numerical FRFs for defined excitation and response locations, ``.rst`` and ``.full`` file from Ansys are required:"
   ]
  },
  {
   "cell_type": "code",
   "execution_count": null,
   "metadata": {
    "slideshow": {
     "slide_type": "-"
    }
   },
   "outputs": [],
   "source": [
    "MK = pyFBS.MK_model('./data/A.rst', './data/A.full')"
   ]
  },
  {
   "cell_type": "markdown",
   "metadata": {
    "slideshow": {
     "slide_type": "slide"
    }
   },
   "source": [
    "FRFs are then calculated using mode superposition method:"
   ]
  },
  {
   "cell_type": "code",
   "execution_count": null,
   "metadata": {},
   "outputs": [],
   "source": [
    "MK.FRF_synth(df_channel = df_chn, df_impact = df_imp,\n",
    "             f_start = 0, f_end = 2000, f_resolution = 1,\n",
    "             limit_modes = 50, modal_damping = 0.003,\n",
    "             frf_type = \"accelerance\")"
   ]
  },
  {
   "cell_type": "code",
   "execution_count": null,
   "metadata": {
    "slideshow": {
     "slide_type": "slide"
    }
   },
   "outputs": [],
   "source": [
    "pyFBS.plot_FRF(MK.freq, MK.FRF[:,:3,:3], width=400, circle_size=1e4) "
   ]
  },
  {
   "cell_type": "markdown",
   "metadata": {
    "slideshow": {
     "slide_type": "slide"
    }
   },
   "source": [
    "For more information on theory regarding FBS and TPA, features, basic and application examples check out [pyFBS documentation](https://pyfbs.readthedocs.io)!"
   ]
  },
  {
   "cell_type": "markdown",
   "metadata": {
    "slideshow": {
     "slide_type": "fragment"
    }
   },
   "source": [
    "**A Tutorial on An Open-Source Python Package for Frequency Based Substructuring and Transfer Path Analysis #12808**\n",
    "\n",
    "<u>05:30 PM–05:50 PM</u> - [View](https://sem.secure-platform.com/a/solicitations/13/sessiongallery/448/application/12808)\n",
    "\n",
    "**<span style=\"color:gray\">Ahmed El Mahmoudi</span>**  *Technical University of Munich*      **<span style=\"color:gray\">Miha Kodrič</span>**  *University of Ljubljana*     **<span style=\"color:gray\">Domen Ocepek</span>**  *University of Ljubljana*     **<span style=\"color:gray\">Francesco Trainotti</span>**  *Technical University of Munich*     **<span style=\"color:gray\">Miha Pogačar</span>**  *University of Ljubljana*     **<span style=\"color:gray\">Tomaž Bregar</span>**  *Gorenje d.o.o.*     **<span style=\"color:gray\">Gregor Čepon</span>**  *University of Ljubljana*     **<span style=\"color:gray\">Miha Boltežar</span>**  *University of Ljubljana*     **<span style=\"color:gray\">Daniel Rixen</span>**  *Technical University of Munich*"
   ]
  },
  {
   "cell_type": "markdown",
   "metadata": {},
   "source": [
    "---"
   ]
  },
  {
   "cell_type": "markdown",
   "metadata": {
    "slideshow": {
     "slide_type": "subslide"
    }
   },
   "source": [
    "### [pyIDI](https://github.com/ladisk/pyidi)\n",
    "\n",
    "An Open-source package for Image-based Displacement Identification (IDI) implementation in Python.\n",
    "\n",
    "Currently implements a Lucas-Kanade based DIC algorithm, and the [Simplified Optical Flow](http://lab.fs.uni-lj.si/ladisk/?what=abstract&ID=179) algorithm for image-based displacement identification.\n",
    "\n",
    "Works with Photron MRAW high-speed imaging file format, but can easily be extended to different data structures."
   ]
  },
  {
   "cell_type": "markdown",
   "metadata": {
    "slideshow": {
     "slide_type": "subslide"
    }
   },
   "source": [
    "Point to the location of image data:"
   ]
  },
  {
   "cell_type": "code",
   "execution_count": null,
   "metadata": {},
   "outputs": [],
   "source": [
    "cam_fname = 'data/camera.cih'"
   ]
  },
  {
   "cell_type": "markdown",
   "metadata": {
    "slideshow": {
     "slide_type": "subslide"
    }
   },
   "source": [
    "Create a `video` object:"
   ]
  },
  {
   "cell_type": "code",
   "execution_count": null,
   "metadata": {},
   "outputs": [],
   "source": [
    "video = pyidi.pyIDI(cam_fname)"
   ]
  },
  {
   "cell_type": "markdown",
   "metadata": {
    "slideshow": {
     "slide_type": "subslide"
    }
   },
   "source": [
    "The first frame of the video:"
   ]
  },
  {
   "cell_type": "code",
   "execution_count": null,
   "metadata": {},
   "outputs": [],
   "source": [
    "plt.imshow(video.mraw[100], 'gray')\n",
    "plt.grid(False)"
   ]
  },
  {
   "cell_type": "markdown",
   "metadata": {
    "slideshow": {
     "slide_type": "subslide"
    }
   },
   "source": [
    "Define the point on the frame where the displacements will be identified:"
   ]
  },
  {
   "cell_type": "code",
   "execution_count": null,
   "metadata": {},
   "outputs": [],
   "source": [
    "points = [[25, 100], [25, 200]]"
   ]
  },
  {
   "cell_type": "code",
   "execution_count": null,
   "metadata": {},
   "outputs": [],
   "source": [
    "video.set_points(points)"
   ]
  },
  {
   "cell_type": "markdown",
   "metadata": {
    "slideshow": {
     "slide_type": "subslide"
    }
   },
   "source": [
    "Set the method of displacement identification:"
   ]
  },
  {
   "cell_type": "code",
   "execution_count": null,
   "metadata": {},
   "outputs": [],
   "source": [
    "video.set_method('sof')"
   ]
  },
  {
   "cell_type": "markdown",
   "metadata": {},
   "source": [
    "Compute the displacements:"
   ]
  },
  {
   "cell_type": "code",
   "execution_count": null,
   "metadata": {},
   "outputs": [],
   "source": [
    "disp = video.get_displacements()"
   ]
  },
  {
   "cell_type": "markdown",
   "metadata": {},
   "source": [
    "Displacements have a shape: (`n_locations`, `n_frames`, `2`):"
   ]
  },
  {
   "cell_type": "code",
   "execution_count": null,
   "metadata": {},
   "outputs": [],
   "source": [
    "disp.shape"
   ]
  },
  {
   "cell_type": "code",
   "execution_count": null,
   "metadata": {},
   "outputs": [],
   "source": [
    "plt.plot(disp[1, :, 0])"
   ]
  },
  {
   "cell_type": "markdown",
   "metadata": {},
   "source": [
    "---"
   ]
  },
  {
   "cell_type": "markdown",
   "metadata": {
    "slideshow": {
     "slide_type": "slide"
    }
   },
   "source": [
    "## Image-based experimental modal analysis in Python"
   ]
  },
  {
   "cell_type": "markdown",
   "metadata": {
    "slideshow": {
     "slide_type": "subslide"
    }
   },
   "source": [
    "**Excitation with modal hammer**"
   ]
  },
  {
   "cell_type": "markdown",
   "metadata": {
    "slideshow": {
     "slide_type": "subslide"
    }
   },
   "source": [
    "<video controls loop src=\"figures/experiment.mp4\" width=\"100%\" rotate=\"270deg\"/>"
   ]
  },
  {
   "cell_type": "markdown",
   "metadata": {
    "slideshow": {
     "slide_type": "subslide"
    }
   },
   "source": [
    "Location of the selected files:"
   ]
  },
  {
   "cell_type": "code",
   "execution_count": null,
   "metadata": {},
   "outputs": [],
   "source": [
    "cam_fname = 'data/camera.cih'\n",
    "lvm_fname = 'data/acceleration.lvm'"
   ]
  },
  {
   "cell_type": "markdown",
   "metadata": {
    "slideshow": {
     "slide_type": "subslide"
    }
   },
   "source": [
    "Load the video using [pyidi][1] package.\n",
    "\n",
    "[1]: https://github.com/ladisk/pyidi"
   ]
  },
  {
   "cell_type": "code",
   "execution_count": null,
   "metadata": {},
   "outputs": [],
   "source": [
    "video = pyidi.pyIDI(cam_fname)"
   ]
  },
  {
   "cell_type": "markdown",
   "metadata": {
    "slideshow": {
     "slide_type": "subslide"
    }
   },
   "source": [
    "Images are stored in the ``mraw`` attribute."
   ]
  },
  {
   "cell_type": "code",
   "execution_count": null,
   "metadata": {},
   "outputs": [],
   "source": [
    "sequential_image_nr = 175\n",
    "plt.imshow(video.mraw[sequential_image_nr], cmap='gray')\n",
    "plt.grid(False)"
   ]
  },
  {
   "cell_type": "markdown",
   "metadata": {
    "slideshow": {
     "slide_type": "subslide"
    }
   },
   "source": [
    "*This example footage is for presentation purposes only and was made to be suitable for online sharing.*\n",
    "\n",
    "*Normaly image acquisation parameters such as frame rate and image resolution would be chosen as high as possible to obtain more precise results.*"
   ]
  },
  {
   "cell_type": "markdown",
   "metadata": {},
   "source": [
    "<video controls loop src=\"figures/video.MOV\" width=\"950\" rotate=\"270deg\"/>"
   ]
  },
  {
   "cell_type": "markdown",
   "metadata": {},
   "source": [
    "---"
   ]
  },
  {
   "cell_type": "markdown",
   "metadata": {
    "slideshow": {
     "slide_type": "slide"
    }
   },
   "source": [
    "## Real-life example of image-based vibration measurement"
   ]
  },
  {
   "cell_type": "markdown",
   "metadata": {},
   "source": [
    "### Image-based displacement computation"
   ]
  },
  {
   "cell_type": "markdown",
   "metadata": {
    "slideshow": {
     "slide_type": "subslide"
    }
   },
   "source": [
    "We are using the high-speed video file, loaded above:"
   ]
  },
  {
   "cell_type": "code",
   "execution_count": null,
   "metadata": {},
   "outputs": [],
   "source": [
    "video.info"
   ]
  },
  {
   "cell_type": "markdown",
   "metadata": {
    "slideshow": {
     "slide_type": "subslide"
    }
   },
   "source": [
    "Select the points to be analyzed:"
   ]
  },
  {
   "cell_type": "code",
   "execution_count": null,
   "metadata": {},
   "outputs": [],
   "source": [
    "video.info['Image Width']"
   ]
  },
  {
   "cell_type": "code",
   "execution_count": null,
   "metadata": {
    "slideshow": {
     "slide_type": "-"
    }
   },
   "outputs": [],
   "source": [
    "points_y = np.ones(10)*video.info['Image Height']//2\n",
    "points_x = np.arange(30, video.info['Image Width'], (video.info['Image Width']-60)//9)\n",
    "points = np.column_stack([points_y, points_x])\n",
    "points"
   ]
  },
  {
   "cell_type": "markdown",
   "metadata": {
    "slideshow": {
     "slide_type": "subslide"
    }
   },
   "source": [
    "Configure the analysis:"
   ]
  },
  {
   "cell_type": "code",
   "execution_count": null,
   "metadata": {},
   "outputs": [],
   "source": [
    "video.set_points(points)\n",
    "video.set_method('lk', roi_size=(21, 23), max_nfev=10, int_order=3)"
   ]
  },
  {
   "cell_type": "code",
   "execution_count": null,
   "metadata": {
    "slideshow": {
     "slide_type": "subslide"
    }
   },
   "outputs": [],
   "source": [
    "video.show_points()"
   ]
  },
  {
   "cell_type": "markdown",
   "metadata": {
    "slideshow": {
     "slide_type": "subslide"
    }
   },
   "source": [
    "Compute the displacements:"
   ]
  },
  {
   "cell_type": "code",
   "execution_count": null,
   "metadata": {},
   "outputs": [],
   "source": [
    "displacements = np.load('data/displacements_lk.npy', allow_pickle=True)"
   ]
  },
  {
   "cell_type": "code",
   "execution_count": null,
   "metadata": {},
   "outputs": [],
   "source": [
    "#displacements = video.get_displaciments(processes=4) * 8e-5 # this might take a minute"
   ]
  },
  {
   "cell_type": "code",
   "execution_count": null,
   "metadata": {
    "slideshow": {
     "slide_type": "subslide"
    }
   },
   "outputs": [],
   "source": [
    "location = 0"
   ]
  },
  {
   "cell_type": "code",
   "execution_count": null,
   "metadata": {},
   "outputs": [],
   "source": [
    "fig, ax = plt.subplots()\n",
    "ax.plot(displacements[location, :, 0], label='Direction 0 (y)')\n",
    "ax.set_xlabel('Image [/]]')\n",
    "ax.set_ylabel('Displacement [m]')\n",
    "plt.legend()"
   ]
  },
  {
   "cell_type": "markdown",
   "metadata": {
    "slideshow": {
     "slide_type": "subslide"
    }
   },
   "source": [
    "Compute the FRF using image-based displacement data"
   ]
  },
  {
   "cell_type": "code",
   "execution_count": null,
   "metadata": {},
   "outputs": [],
   "source": [
    "N = int(video.info['Total Frame'])\n",
    "dt = 1/int(video.info['Record Rate(fps)'])\n",
    "T = dt*N"
   ]
  },
  {
   "cell_type": "code",
   "execution_count": null,
   "metadata": {},
   "outputs": [],
   "source": [
    "upper_f_limit = 4000 # upper observed frequency"
   ]
  },
  {
   "cell_type": "code",
   "execution_count": null,
   "metadata": {
    "slideshow": {
     "slide_type": "subslide"
    }
   },
   "outputs": [],
   "source": [
    "freq_cam = np.fft.rfftfreq(N, dt)\n",
    "fft_cam = np.fft.rfft(displacements[:, :, 0], N) *2/N "
   ]
  },
  {
   "cell_type": "markdown",
   "metadata": {},
   "source": [
    "Use only data below the selected upper frequency:"
   ]
  },
  {
   "cell_type": "code",
   "execution_count": null,
   "metadata": {},
   "outputs": [],
   "source": [
    "fft_cam = np.copy(fft_cam[:, freq_cam<upper_f_limit])\n",
    "freq_cam = np.copy(freq_cam[freq_cam<upper_f_limit])"
   ]
  },
  {
   "cell_type": "markdown",
   "metadata": {
    "slideshow": {
     "slide_type": "subslide"
    }
   },
   "source": [
    "The FFT of force measurement is (also limited to `upper_f_limit`):"
   ]
  },
  {
   "cell_type": "code",
   "execution_count": null,
   "metadata": {},
   "outputs": [],
   "source": [
    "lvm = lvm_read.read(lvm_fname)\n",
    "force = lvm[0]['data'][:-30, 1] # 30 pre-samples\n",
    "N = len(force)//4 # the video was captured for 1/4 of a second\n",
    "dt = lvm[0]['Delta_X'][1]\n",
    "\n",
    "fft_force = np.fft.rfft(force, N) *2/N\n",
    "freq_force = np.fft.rfftfreq(N, dt)\n",
    "\n",
    "fft_force = np.copy(fft_force[freq_force<upper_f_limit])\n",
    "freq_force = np.copy(freq_force[freq_force<upper_f_limit])"
   ]
  },
  {
   "cell_type": "markdown",
   "metadata": {
    "slideshow": {
     "slide_type": "subslide"
    }
   },
   "source": [
    "Since only one measurement was used, the FRF is determined by:"
   ]
  },
  {
   "cell_type": "code",
   "execution_count": null,
   "metadata": {},
   "outputs": [],
   "source": [
    "frf_cam = fft_cam/fft_force "
   ]
  },
  {
   "cell_type": "code",
   "execution_count": null,
   "metadata": {
    "slideshow": {
     "slide_type": "subslide"
    }
   },
   "outputs": [],
   "source": [
    "plt.semilogy(freq_cam, np.abs(frf_cam[location]));\n",
    "plt.xlabel('Frequency [Hz]')\n",
    "plt.ylabel('Receptance FRF')"
   ]
  },
  {
   "cell_type": "markdown",
   "metadata": {
    "slideshow": {
     "slide_type": "subslide"
    }
   },
   "source": [
    "### Modal Analysis - camera data, only"
   ]
  },
  {
   "cell_type": "markdown",
   "metadata": {},
   "source": [
    "Modal analysis can be made using ``pyEMA`` package, accessible on [PyPI][1].\n",
    "\n",
    "[1]: https://pypi.org/project/pyEMA/"
   ]
  },
  {
   "cell_type": "code",
   "execution_count": null,
   "metadata": {
    "slideshow": {
     "slide_type": "subslide"
    }
   },
   "outputs": [],
   "source": [
    "cam = pyEMA.Model(frf_cam, freq_cam, pol_order_high=100, upper=upper_f_limit)"
   ]
  },
  {
   "cell_type": "markdown",
   "metadata": {},
   "source": [
    "Poles are computed:"
   ]
  },
  {
   "cell_type": "code",
   "execution_count": null,
   "metadata": {},
   "outputs": [],
   "source": [
    "cam.get_poles(show_progress=True)"
   ]
  },
  {
   "cell_type": "markdown",
   "metadata": {
    "slideshow": {
     "slide_type": "subslide"
    }
   },
   "source": [
    "Stable poles can be picked in the stability chart, or preditermind by passing in approximate natural frequencies."
   ]
  },
  {
   "cell_type": "code",
   "execution_count": null,
   "metadata": {},
   "outputs": [],
   "source": [
    "cam.select_poles()"
   ]
  },
  {
   "cell_type": "code",
   "execution_count": null,
   "metadata": {
    "slideshow": {
     "slide_type": "subslide"
    }
   },
   "outputs": [],
   "source": [
    "cam.print_modal_data()"
   ]
  },
  {
   "cell_type": "markdown",
   "metadata": {
    "slideshow": {
     "slide_type": "subslide"
    }
   },
   "source": [
    "After the stable poles are determind, a ``lsfd`` method can be called to reconstruct the FRF:"
   ]
  },
  {
   "cell_type": "code",
   "execution_count": null,
   "metadata": {},
   "outputs": [],
   "source": [
    "frf_rec, shapes_cam = cam.get_constants(FRF_ind='all')"
   ]
  },
  {
   "cell_type": "code",
   "execution_count": null,
   "metadata": {
    "slideshow": {
     "slide_type": "subslide"
    }
   },
   "outputs": [],
   "source": [
    "fig, ax = plt.subplots()\n",
    "ax.semilogy(freq_cam, np.abs(frf_cam[location]), label='Camera FRF', alpha=0.8)\n",
    "ax.semilogy(freq_cam[:-1], np.abs(frf_rec[location]), label='Reconstructed FRF', lw=2)\n",
    "ax.set_xlabel('frequency [Hz]')\n",
    "ax.set_ylabel('Receptance')\n",
    "plt.legend();"
   ]
  },
  {
   "cell_type": "code",
   "execution_count": null,
   "metadata": {
    "slideshow": {
     "slide_type": "subslide"
    }
   },
   "outputs": [],
   "source": [
    "fig, ax = plt.subplots(shapes_cam.shape[1])\n",
    "for i, a in enumerate(ax):\n",
    "    plot_mode_shape(shapes_cam[:, i], axis=a, frequency=cam.nat_freq[i])"
   ]
  },
  {
   "cell_type": "markdown",
   "metadata": {
    "slideshow": {
     "slide_type": "subslide"
    }
   },
   "source": [
    "### Modal Analysis - The Hybrid method"
   ]
  },
  {
   "cell_type": "markdown",
   "metadata": {},
   "source": [
    "The Hybrid method was developed by Javh et al. Further details can be found [here][1] ([pdf][2])\n",
    "\n",
    "First, the acceleration and force data are needed:\n",
    "\n",
    "[1]: https://www.sciencedirect.com/science/article/pii/S0888327017302637\n",
    "[2]: http://lab.fs.uni-lj.si/ladisk/?what=abstract&ID=192"
   ]
  },
  {
   "cell_type": "code",
   "execution_count": null,
   "metadata": {
    "slideshow": {
     "slide_type": "-"
    }
   },
   "outputs": [],
   "source": [
    "hyb_acc = lvm[0]['data'][:-30, 0] * 9.81 # acceleration data (converted to m/s**2)"
   ]
  },
  {
   "cell_type": "markdown",
   "metadata": {
    "slideshow": {
     "slide_type": "subslide"
    }
   },
   "source": [
    "The FRF can be computed using ``pyFRF``:"
   ]
  },
  {
   "cell_type": "code",
   "execution_count": null,
   "metadata": {},
   "outputs": [],
   "source": [
    "frf_ = pyFRF.FRF(\n",
    "    sampling_freq=1/dt,\n",
    "    exc=force,\n",
    "    resp=hyb_acc,\n",
    "    exc_window='None',\n",
    "    resp_type='a',\n",
    "    resp_window='None')"
   ]
  },
  {
   "cell_type": "markdown",
   "metadata": {
    "slideshow": {
     "slide_type": "subslide"
    }
   },
   "source": [
    "Only the frequencies lower than `upper_f_limit` Hz are observed:"
   ]
  },
  {
   "cell_type": "code",
   "execution_count": null,
   "metadata": {},
   "outputs": [],
   "source": [
    "freq_acc = frf_.get_f_axis()\n",
    "frf_acc = frf_.get_FRF(form='receptance')\n",
    "\n",
    "frf_acc = frf_acc[freq_acc<upper_f_limit]\n",
    "freq_acc = freq_acc[freq_acc<upper_f_limit]"
   ]
  },
  {
   "cell_type": "markdown",
   "metadata": {
    "slideshow": {
     "slide_type": "subslide"
    }
   },
   "source": [
    "The location of acceleration measurement is at identified camera point with index 3:"
   ]
  },
  {
   "cell_type": "code",
   "execution_count": null,
   "metadata": {},
   "outputs": [],
   "source": [
    "fig, ax = plt.subplots()\n",
    "ax.semilogy(freq_cam, np.abs(frf_cam[location]), label='Camera FRF')\n",
    "ax.semilogy(freq_acc, np.abs(frf_acc), label='Accelerometer FRF')\n",
    "ax.set_title('Camera-based response at accelerometer location')\n",
    "plt.legend();"
   ]
  },
  {
   "cell_type": "markdown",
   "metadata": {
    "slideshow": {
     "slide_type": "subslide"
    }
   },
   "source": [
    "Next the ``lscf`` object can be created and poles are computed for the hybrid method:"
   ]
  },
  {
   "cell_type": "code",
   "execution_count": null,
   "metadata": {},
   "outputs": [],
   "source": [
    "acc = pyEMA.Model(frf_acc[1:], freq_acc[1:], pol_order_high=50, upper=upper_f_limit)"
   ]
  },
  {
   "cell_type": "code",
   "execution_count": null,
   "metadata": {},
   "outputs": [],
   "source": [
    "acc.get_poles(show_progress=True)"
   ]
  },
  {
   "cell_type": "code",
   "execution_count": null,
   "metadata": {
    "slideshow": {
     "slide_type": "subslide"
    }
   },
   "outputs": [],
   "source": [
    "acc.select_poles()"
   ]
  },
  {
   "cell_type": "code",
   "execution_count": null,
   "metadata": {
    "slideshow": {
     "slide_type": "subslide"
    }
   },
   "outputs": [],
   "source": [
    "acc.print_modal_data()"
   ]
  },
  {
   "cell_type": "markdown",
   "metadata": {
    "slideshow": {
     "slide_type": "subslide"
    }
   },
   "source": [
    "The poles computed based on accleration data are more reliable. These poles can now be used in reconstruction of FRFs from camera. A new ``lscf`` object is made with camera FRF:"
   ]
  },
  {
   "cell_type": "code",
   "execution_count": null,
   "metadata": {},
   "outputs": [],
   "source": [
    "cam_hyb = pyEMA.Model(frf_cam, freq_cam)"
   ]
  },
  {
   "cell_type": "markdown",
   "metadata": {},
   "source": [
    "Next, the reconstruction is done using accleration-determined poles:"
   ]
  },
  {
   "cell_type": "code",
   "execution_count": null,
   "metadata": {},
   "outputs": [],
   "source": [
    "frf_hyb, shapes_hybrid = cam_hyb.get_constants(whose_poles=acc)"
   ]
  },
  {
   "cell_type": "code",
   "execution_count": null,
   "metadata": {
    "slideshow": {
     "slide_type": "subslide"
    }
   },
   "outputs": [],
   "source": [
    "fig, ax = plt.subplots()\n",
    "ax.semilogy(freq_cam, np.abs(frf_cam[location]), label='Camera FRF', alpha=0.8)\n",
    "ax.semilogy(freq_acc, np.abs(frf_acc), label='Accelerometer FRF')\n",
    "ax.semilogy(freq_cam[:-1], np.abs(frf_hyb[location]), label='Reconstructed FRF', lw=3)\n",
    "plt.legend();"
   ]
  },
  {
   "cell_type": "code",
   "execution_count": null,
   "metadata": {
    "slideshow": {
     "slide_type": "subslide"
    }
   },
   "outputs": [],
   "source": [
    "fig, ax = plt.subplots(shapes_cam.shape[-1])\n",
    "for i, a in enumerate(ax):\n",
    "    cam_freq = cam.nat_freq[i]\n",
    "    hybrid_f_index = np.argmin(np.abs(acc.nat_freq - cam_freq))\n",
    "    plot_mode_shape(shapes_hybrid[:, hybrid_f_index], axis=a, \n",
    "                    frequency=acc.nat_freq[hybrid_f_index], lw=2, label='Hybrid')\n",
    "    plot_mode_shape(shapes_cam[:, i], axis=a , alpha=0.3, label='Camera')\n",
    "    a.set_yticks([])\n",
    "ax[0].legend()"
   ]
  },
  {
   "cell_type": "code",
   "execution_count": null,
   "metadata": {
    "slideshow": {
     "slide_type": "subslide"
    }
   },
   "outputs": [],
   "source": [
    "plt.figure(figsize=(fig_size[0], fig_size[1]/3))\n",
    "plot_mode_shape(shapes_hybrid[:, -1], axis=plt.gca(), \n",
    "                frequency=acc.nat_freq[-1], lw=2, label='Hybrid')\n",
    "plt.legend()"
   ]
  },
  {
   "cell_type": "markdown",
   "metadata": {
    "slideshow": {
     "slide_type": "slide"
    }
   },
   "source": [
    "## Conclusions"
   ]
  },
  {
   "cell_type": "markdown",
   "metadata": {
    "slideshow": {
     "slide_type": "fragment"
    }
   },
   "source": [
    "* We value the **Seven Stages of Open Software** as discussed by [Matthew Rocklin](https://coiled.io/blog/stages-of-openness.html)\n",
    "* Check-out \n",
    "   https://github.com/sdypy/sdypy \n",
    "   which is an effort to prepare an open, inclusive, and multi-institution governed github organization in the field of Structural Dynamics.\n",
    "* We welcome everybody to openly collaborate.\n",
    "* Get in touch with us (via email or on github)."
   ]
  }
 ],
 "metadata": {
  "celltoolbar": "Slideshow",
  "hide_input": false,
  "kernelspec": {
   "display_name": "Python 3 (ipykernel)",
   "language": "python",
   "name": "python3"
  },
  "language_info": {
   "codemirror_mode": {
    "name": "ipython",
    "version": 3
   },
   "file_extension": ".py",
   "mimetype": "text/x-python",
   "name": "python",
   "nbconvert_exporter": "python",
   "pygments_lexer": "ipython3",
   "version": "3.8.3"
  },
  "nbdime-conflicts": {
   "local_diff": [
    {
     "diff": [
      {
       "diff": [
        {
         "diff": [
          {
           "key": 4,
           "op": "addrange",
           "valuelist": "8"
          },
          {
           "key": 4,
           "length": 1,
           "op": "removerange"
          }
         ],
         "key": 0,
         "op": "patch"
        }
       ],
       "key": "version",
       "op": "patch"
      }
     ],
     "key": "language_info",
     "op": "patch"
    }
   ],
   "remote_diff": [
    {
     "diff": [
      {
       "diff": [
        {
         "key": 0,
         "length": 1,
         "op": "removerange"
        }
       ],
       "key": "version",
       "op": "patch"
      }
     ],
     "key": "language_info",
     "op": "patch"
    }
   ]
  },
  "toc": {
   "base_numbering": 1,
   "nav_menu": {
    "height": "259px",
    "width": "276px"
   },
   "number_sections": true,
   "sideBar": true,
   "skip_h1_title": true,
   "title_cell": "Table of Contents",
   "title_sidebar": "Contents",
   "toc_cell": true,
   "toc_position": {
    "height": "calc(100% - 180px)",
    "left": "10px",
    "top": "150px",
    "width": "165px"
   },
   "toc_section_display": true,
   "toc_window_display": false
  },
  "varInspector": {
   "cols": {
    "lenName": 16,
    "lenType": 16,
    "lenVar": 40
   },
   "kernels_config": {
    "python": {
     "delete_cmd_postfix": "",
     "delete_cmd_prefix": "del ",
     "library": "var_list.py",
     "varRefreshCmd": "print(var_dic_list())"
    },
    "r": {
     "delete_cmd_postfix": ") ",
     "delete_cmd_prefix": "rm(",
     "library": "var_list.r",
     "varRefreshCmd": "cat(var_dic_list()) "
    }
   },
   "types_to_exclude": [
    "module",
    "function",
    "builtin_function_or_method",
    "instance",
    "_Feature"
   ],
   "window_display": false
  }
 },
 "nbformat": 4,
 "nbformat_minor": 4
}
